{
 "cells": [
  {
   "cell_type": "markdown",
   "metadata": {},
   "source": [
    "# 1. Preparation"
   ]
  },
  {
   "cell_type": "markdown",
   "metadata": {},
   "source": [
    "The ease of access to numerous sources of news on the internet also makes the problem of individuals been exposed to fake-news and perhaps believing them. We need to detect and flag such news on the internet. With the current rate of news generated on social media, it is difficult to distinguish between genuine news and fabrications without identifying the source of the story. This project tries to detect fake news using only the text without using any other related data.  \n",
    "\n",
    "This prediction helps us to recognize between the fake news and true news. We have 55,000. We can say approximately half of it is fake news. In this project by using two different recurrent neural networks, we try to predict the accuracy of news by using two main features including the category of news and the article. So, this binary classification is many to one sequence classification."
   ]
  },
  {
   "cell_type": "markdown",
   "metadata": {},
   "source": [
    "## 1.1. Define and prepare your class variables"
   ]
  },
  {
   "cell_type": "code",
   "execution_count": 60,
   "metadata": {},
   "outputs": [],
   "source": [
    "import numpy as np \n",
    "import pandas as pd\n",
    "import seaborn as sns\n",
    "import matplotlib.pyplot as plt\n",
    "import nltk\n",
    "from sklearn.preprocessing import LabelBinarizer\n",
    "from nltk.corpus import stopwords\n",
    "from nltk.stem.porter import PorterStemmer\n",
    "#from wordcloud import WordCloud,STOPWORDS\n",
    "#from nltk.stem import WordNetLemmatizer\n",
    "#from nltk.tokenize import word_tokenize,sent_tokenize\n",
    "#from bs4 import BeautifulSoup\n",
    "import re,string,unicodedata\n",
    "from keras.preprocessing import text, sequence\n",
    "from nltk.tokenize.toktok import ToktokTokenizer\n",
    "from sklearn.metrics import classification_report,confusion_matrix,accuracy_score\n",
    "from sklearn.model_selection import train_test_split\n",
    "from string import punctuation\n",
    "from nltk import pos_tag\n",
    "from nltk.corpus import wordnet\n",
    "import keras\n",
    "from keras.models import Sequential\n",
    "from keras.layers import Dense,Embedding,LSTM,Dropout\n",
    "import tensorflow as tf\n"
   ]
  },
  {
   "cell_type": "code",
   "execution_count": 2,
   "metadata": {},
   "outputs": [],
   "source": [
    "true = pd.read_csv(\"True.csv\")\n",
    "false = pd.read_csv(\"Fake.csv\")\n",
    "true['category'] = 0\n",
    "false['category'] = 1\n",
    "df = pd.concat([true,false]) #Merging the 2 datasets"
   ]
  },
  {
   "cell_type": "code",
   "execution_count": 3,
   "metadata": {},
   "outputs": [
    {
     "data": {
      "text/plain": [
       "<matplotlib.axes._subplots.AxesSubplot at 0x1e257c3de10>"
      ]
     },
     "execution_count": 3,
     "metadata": {},
     "output_type": "execute_result"
    },
    {
     "data": {
      "image/png": "[encoded data removed]",
      "text/plain": [
       "<Figure size 432x288 with 1 Axes>"
      ]
     },
     "metadata": {},
     "output_type": "display_data"
    }
   ],
   "source": [
    "sns.set_style(\"dark\")\n",
    "sns.countplot(df.category)"
   ]
  },
  {
   "cell_type": "code",
   "execution_count": 4,
   "metadata": {},
   "outputs": [],
   "source": [
    "df['text'] = df['text'] + \" \" + df['title']\n",
    "del df['title']\n",
    "del df['subject']\n",
    "del df['date']"
   ]
  },
  {
   "cell_type": "markdown",
   "metadata": {},
   "source": [
    "## 1.2. Choose and explain evaluation metric"
   ]
  },
  {
   "cell_type": "markdown",
   "metadata": {},
   "source": [
    "As accuracy is primarily affected by a large number of True Negatives, which in our project we do not focus on much, it cannot be a good choice for model evaluation. In contrast, false negative and false positives usually associated with costs; therefore, F1 Score might be a better measure to use, since we also can provide a balance between precision and recall, and also there is an uneven class distribution."
   ]
  },
  {
   "cell_type": "code",
   "execution_count": 5,
   "metadata": {},
   "outputs": [],
   "source": [
    "# define f1 score to use in Keras\n",
    "import keras.backend as K\n",
    "\n",
    "# https://stackoverflow.com/questions/43547402/how-to-calculate-f1-macro-in-keras\n",
    "def f1(y_true, y_pred):\n",
    "    def recall(y_true, y_pred):\n",
    "        true_positives = K.sum(K.round(K.clip(y_true * y_pred, 0, 1)))\n",
    "        possible_positives = K.sum(K.round(K.clip(y_true, 0, 1)))\n",
    "        recall = true_positives / (possible_positives + K.epsilon())\n",
    "        return recall\n",
    "    def precision(y_true, y_pred):\n",
    "        true_positives = K.sum(K.round(K.clip(y_true * y_pred, 0, 1)))\n",
    "        predicted_positives = K.sum(K.round(K.clip(y_pred, 0, 1)))\n",
    "        precision = true_positives / (predicted_positives + K.epsilon())\n",
    "        return precision\n",
    "    precision = precision(y_true, y_pred)\n",
    "    recall = recall(y_true, y_pred)\n",
    "    return 2*((precision*recall)/(precision+recall+K.epsilon()))"
   ]
  },
  {
   "cell_type": "markdown",
   "metadata": {},
   "source": [
    "## 1.3. Divide your data"
   ]
  },
  {
   "cell_type": "code",
   "execution_count": 6,
   "metadata": {},
   "outputs": [],
   "source": [
    "x_train,x_test,y_train,y_test = train_test_split(df.text,df.category,random_state = 0)"
   ]
  },
  {
   "cell_type": "code",
   "execution_count": 7,
   "metadata": {},
   "outputs": [],
   "source": [
    "max_features = 10000\n",
    "maxlen = 300\n",
    "\n",
    "tokenizer = text.Tokenizer(num_words=max_features)\n",
    "tokenizer.fit_on_texts(x_train)\n",
    "tokenized_train = tokenizer.texts_to_sequences(x_train)\n",
    "x_train = sequence.pad_sequences(tokenized_train, maxlen=maxlen)"
   ]
  },
  {
   "cell_type": "code",
   "execution_count": 8,
   "metadata": {},
   "outputs": [],
   "source": [
    "tokenized_test = tokenizer.texts_to_sequences(x_test)\n",
    "X_test = sequence.pad_sequences(tokenized_test, maxlen=maxlen)"
   ]
  },
  {
   "cell_type": "markdown",
   "metadata": {},
   "source": [
    "# 2. Modeling"
   ]
  },
  {
   "cell_type": "markdown",
   "metadata": {},
   "source": [
    "## 2.1. Investigate two different recurrent network architectures (LSTM and Simple RNN)"
   ]
  },
  {
   "cell_type": "code",
   "execution_count": 9,
   "metadata": {},
   "outputs": [],
   "source": [
    "from keras.models import Sequential, Input, Model\n",
    "from keras.layers import Dense\n",
    "from keras.layers import SimpleRNN\n",
    "from keras.layers.embeddings import Embedding\n",
    "\n",
    "NUM_CLASSES=1\n",
    "EMBED_SIZE = 50\n",
    "\n",
    "input_holder = Input(shape=(x_train.shape[1], ))\n",
    "input_embed = Embedding(max_features, # input dimension (max int of OHE)\n",
    "                EMBED_SIZE, # output dimension size\n",
    "                input_length=maxlen)(input_holder) # number of words in each sequence\n",
    "\n",
    "\n",
    "x = SimpleRNN(25,dropout=0.2, recurrent_dropout=0.2)(input_embed)\n",
    "x = Dense(NUM_CLASSES, activation='sigmoid')(x)\n",
    "rnn=Model(inputs=input_holder,outputs=x)\n",
    "rnn.compile(loss='binary_crossentropy', \n",
    "              optimizer='rmsprop', \n",
    "              metrics=[f1])\n"
   ]
  },
  {
   "cell_type": "code",
   "execution_count": 43,
   "metadata": {},
   "outputs": [
    {
     "name": "stdout",
     "output_type": "stream",
     "text": [
      "Model: \"model_1\"\n",
      "_________________________________________________________________\n",
      "Layer (type)                 Output Shape              Param #   \n",
      "=================================================================\n",
      "input_1 (InputLayer)         (None, 300)               0         \n",
      "_________________________________________________________________\n",
      "embedding_1 (Embedding)      (None, 300, 50)           500000    \n",
      "_________________________________________________________________\n",
      "simple_rnn_1 (SimpleRNN)     (None, 25)                1900      \n",
      "_________________________________________________________________\n",
      "dense_1 (Dense)              (None, 1)                 26        \n",
      "=================================================================\n",
      "Total params: 501,926\n",
      "Trainable params: 501,926\n",
      "Non-trainable params: 0\n",
      "_________________________________________________________________\n",
      "None\n"
     ]
    }
   ],
   "source": [
    "print(rnn.summary())"
   ]
  },
  {
   "cell_type": "code",
   "execution_count": 10,
   "metadata": {},
   "outputs": [
    {
     "name": "stdout",
     "output_type": "stream",
     "text": [
      "Model: \"model_2\"\n",
      "_________________________________________________________________\n",
      "Layer (type)                 Output Shape              Param #   \n",
      "=================================================================\n",
      "input_1 (InputLayer)         (None, 300)               0         \n",
      "_________________________________________________________________\n",
      "embedding_2 (Embedding)      (None, 300, 50)           500000    \n",
      "_________________________________________________________________\n",
      "lstm_1 (LSTM)                (None, 50)                20200     \n",
      "_________________________________________________________________\n",
      "dense_2 (Dense)              (None, 1)                 51        \n",
      "=================================================================\n",
      "Total params: 520,251\n",
      "Trainable params: 520,251\n",
      "Non-trainable params: 0\n",
      "_________________________________________________________________\n",
      "None\n"
     ]
    }
   ],
   "source": [
    "from keras.models import Sequential, Input, Model\n",
    "from keras.layers import Dense\n",
    "from keras.layers import LSTM, GRU, SimpleRNN\n",
    "from keras.layers.embeddings import Embedding\n",
    "\n",
    "shared_embed = Embedding(max_features, # input dimension (max int of OHE)\n",
    "                EMBED_SIZE, # output dimension size\n",
    "                input_length=maxlen)(input_holder) \n",
    "\n",
    "\n",
    "x = LSTM(50, dropout=0.2, recurrent_dropout=0.2)(shared_embed)\n",
    "x = Dense(NUM_CLASSES, activation='sigmoid')(x)\n",
    "lstm=Model(inputs=input_holder,outputs=x)\n",
    "lstm.compile(loss='binary_crossentropy', \n",
    "                  optimizer='rmsprop', \n",
    "                  metrics=[f1])\n",
    "print(lstm.summary())\n"
   ]
  },
  {
   "cell_type": "code",
   "execution_count": 11,
   "metadata": {},
   "outputs": [
    {
     "name": "stderr",
     "output_type": "stream",
     "text": [
      "C:\\Users\\Hedieh\\Anaconda3\\lib\\site-packages\\tensorflow_core\\python\\framework\\indexed_slices.py:424: UserWarning: Converting sparse IndexedSlices to a dense Tensor of unknown shape. This may consume a large amount of memory.\n",
      "  \"Converting sparse IndexedSlices to a dense Tensor of unknown shape. \"\n",
      "C:\\Users\\Hedieh\\Anaconda3\\lib\\site-packages\\tensorflow_core\\python\\framework\\indexed_slices.py:424: UserWarning: Converting sparse IndexedSlices to a dense Tensor of unknown shape. This may consume a large amount of memory.\n",
      "  \"Converting sparse IndexedSlices to a dense Tensor of unknown shape. \"\n"
     ]
    },
    {
     "name": "stdout",
     "output_type": "stream",
     "text": [
      "Train on 33673 samples, validate on 11225 samples\n",
      "Epoch 1/50\n",
      "33673/33673 [==============================] - 136s 4ms/step - loss: 0.1264 - f1: 0.9591 - val_loss: 0.0330 - val_f1: 0.9903\n",
      "Epoch 2/50\n",
      "33673/33673 [==============================] - 139s 4ms/step - loss: 0.0278 - f1: 0.9913 - val_loss: 0.0263 - val_f1: 0.9915\n",
      "Epoch 3/50\n",
      "33673/33673 [==============================] - 134s 4ms/step - loss: 0.0206 - f1: 0.9934 - val_loss: 0.0257 - val_f1: 0.9912\n",
      "Epoch 4/50\n",
      "33673/33673 [==============================] - 146s 4ms/step - loss: 0.0170 - f1: 0.9946 - val_loss: 0.0240 - val_f1: 0.9920\n",
      "Epoch 5/50\n",
      "33673/33673 [==============================] - 133s 4ms/step - loss: 0.0137 - f1: 0.9957 - val_loss: 0.0290 - val_f1: 0.9917\n",
      "Epoch 6/50\n",
      "33673/33673 [==============================] - 135s 4ms/step - loss: 0.0130 - f1: 0.9961 - val_loss: 0.0277 - val_f1: 0.9929\n",
      "Epoch 7/50\n",
      "33673/33673 [==============================] - 131s 4ms/step - loss: 0.0104 - f1: 0.9972 - val_loss: 0.0222 - val_f1: 0.9931\n",
      "Epoch 8/50\n",
      "33673/33673 [==============================] - 131s 4ms/step - loss: 0.0093 - f1: 0.9974 - val_loss: 0.0244 - val_f1: 0.9939\n",
      "Epoch 9/50\n",
      "33673/33673 [==============================] - 139s 4ms/step - loss: 0.0078 - f1: 0.9977 - val_loss: 0.0207 - val_f1: 0.9940\n",
      "Epoch 10/50\n",
      "33673/33673 [==============================] - 141s 4ms/step - loss: 0.0078 - f1: 0.9978 - val_loss: 0.0211 - val_f1: 0.9943\n",
      "Epoch 11/50\n",
      "33673/33673 [==============================] - 154s 5ms/step - loss: 0.0062 - f1: 0.9984 - val_loss: 0.0289 - val_f1: 0.9927\n",
      "Epoch 12/50\n",
      "33673/33673 [==============================] - 150s 4ms/step - loss: 0.0058 - f1: 0.9986 - val_loss: 0.0266 - val_f1: 0.9944\n",
      "Epoch 13/50\n",
      "33673/33673 [==============================] - 152s 5ms/step - loss: 0.0038 - f1: 0.9991 - val_loss: 0.0252 - val_f1: 0.9946\n",
      "Epoch 14/50\n",
      "33673/33673 [==============================] - 148s 4ms/step - loss: 0.0043 - f1: 0.9990 - val_loss: 0.0266 - val_f1: 0.9945\n"
     ]
    }
   ],
   "source": [
    "from keras.callbacks import EarlyStopping, ModelCheckpoint, ReduceLROnPlateau\n",
    "\n",
    "lstm_history=lstm.fit(x_train, y_train,validation_data=(X_test, y_test),\n",
    "                                        epochs=50, batch_size=64,\n",
    "                                        callbacks=[EarlyStopping(monitor='val_loss', patience=5),\n",
    "                                                   ModelCheckpoint(filepath='lstm_best.hdf5', monitor='val_loss',\n",
    "                                                                   save_best_only=True),\n",
    "                                                   ReduceLROnPlateau(monitor='val_loss', factor=0.1, patience=3)])\n",
    "   "
   ]
  },
  {
   "cell_type": "code",
   "execution_count": null,
   "metadata": {},
   "outputs": [],
   "source": [
    "yhat_lstm = lstm.predict(X_test)"
   ]
  },
  {
   "cell_type": "code",
   "execution_count": 41,
   "metadata": {},
   "outputs": [
    {
     "name": "stderr",
     "output_type": "stream",
     "text": [
      "C:\\Users\\Hedieh\\Anaconda3\\lib\\site-packages\\tensorflow_core\\python\\framework\\indexed_slices.py:424: UserWarning: Converting sparse IndexedSlices to a dense Tensor of unknown shape. This may consume a large amount of memory.\n",
      "  \"Converting sparse IndexedSlices to a dense Tensor of unknown shape. \"\n",
      "C:\\Users\\Hedieh\\Anaconda3\\lib\\site-packages\\tensorflow_core\\python\\framework\\indexed_slices.py:424: UserWarning: Converting sparse IndexedSlices to a dense Tensor of unknown shape. This may consume a large amount of memory.\n",
      "  \"Converting sparse IndexedSlices to a dense Tensor of unknown shape. \"\n"
     ]
    },
    {
     "name": "stdout",
     "output_type": "stream",
     "text": [
      "Train on 33673 samples, validate on 11225 samples\n",
      "Epoch 1/50\n",
      "33673/33673 [==============================] - 66s 2ms/step - loss: 0.5747 - f1: 0.6819 - val_loss: 0.3448 - val_f1: 0.9138\n",
      "Epoch 2/50\n",
      "33673/33673 [==============================] - 69s 2ms/step - loss: 0.2343 - f1: 0.9119 - val_loss: 0.0679 - val_f1: 0.9787\n",
      "Epoch 3/50\n",
      "33673/33673 [==============================] - 69s 2ms/step - loss: 0.0914 - f1: 0.9721 - val_loss: 0.0571 - val_f1: 0.9814\n",
      "Epoch 4/50\n",
      "33673/33673 [==============================] - 65s 2ms/step - loss: 0.0636 - f1: 0.9801 - val_loss: 0.0444 - val_f1: 0.9869\n",
      "Epoch 5/50\n",
      "33673/33673 [==============================] - 65s 2ms/step - loss: 0.0514 - f1: 0.9853 - val_loss: 0.0630 - val_f1: 0.9797\n",
      "Epoch 6/50\n",
      "33673/33673 [==============================] - 60s 2ms/step - loss: 0.0422 - f1: 0.9880 - val_loss: 0.0483 - val_f1: 0.9841\n",
      "Epoch 7/50\n",
      "33673/33673 [==============================] - 60s 2ms/step - loss: 0.0369 - f1: 0.9895 - val_loss: 0.0471 - val_f1: 0.9860\n",
      "Epoch 8/50\n",
      "33673/33673 [==============================] - 60s 2ms/step - loss: 0.0307 - f1: 0.9912 - val_loss: 0.0504 - val_f1: 0.9851\n",
      "Epoch 9/50\n",
      "33673/33673 [==============================] - 61s 2ms/step - loss: 0.0279 - f1: 0.9921 - val_loss: 0.0521 - val_f1: 0.9848\n"
     ]
    }
   ],
   "source": [
    "from keras.callbacks import EarlyStopping, ModelCheckpoint, ReduceLROnPlateau\n",
    "\n",
    "rnn_history=rnn.fit(x_train, y_train,validation_data=(X_test, y_test), epochs=50, batch_size=64,\n",
    "                                        callbacks=[EarlyStopping(monitor='val_loss', patience=5),\n",
    "                                                   ModelCheckpoint(filepath='gru_best.hdf5', monitor='val_loss',\n",
    "                                                                   save_best_only=True),\n",
    "                                                   ReduceLROnPlateau(monitor='val_loss', factor=0.1, patience=3)])\n",
    "    "
   ]
  },
  {
   "cell_type": "code",
   "execution_count": 50,
   "metadata": {},
   "outputs": [],
   "source": [
    "yhat_rnn = rnn.predict(X_test)"
   ]
  },
  {
   "cell_type": "markdown",
   "metadata": {},
   "source": [
    "## 2.2.  Visualize the results of all the RNNs you trained."
   ]
  },
  {
   "cell_type": "code",
   "execution_count": 45,
   "metadata": {},
   "outputs": [
    {
     "data": {
      "image/png": "[encoded data removed]",
      "text/plain": [
       "<Figure size 1440x720 with 4 Axes>"
      ]
     },
     "metadata": {},
     "output_type": "display_data"
    }
   ],
   "source": [
    "# plot the performance over the epochs\n",
    "plt.figure(figsize=(20,10))\n",
    "\n",
    "plt.subplot(2,2,1)\n",
    "plt.plot(lstm_history.history['f1'], lw=3.0)\n",
    "plt.plot(rnn_history.history['f1'], lw=3.0)\n",
    "plt.ylabel('F1 Score')\n",
    "plt.xlabel('Epochs')\n",
    "plt.title('Training')\n",
    "plt.legend(['LSTM Network', 'Simple Network'])\n",
    "\n",
    "plt.subplot(2,2,2)\n",
    "plt.plot(lstm_history.history['val_f1'], lw=3.0)\n",
    "plt.plot(rnn_history.history['val_f1'], lw=3.0)\n",
    "plt.xlabel('Epochs')\n",
    "plt.title('Testing')\n",
    "plt.legend(['LSTM Network', 'Simple Network'])\n",
    "\n",
    "plt.subplot(2,2,3)\n",
    "plt.plot(lstm_history.history['loss'], lw=3.0)\n",
    "plt.plot(rnn_history.history['loss'], lw=3.0)\n",
    "plt.ylabel('Loss')\n",
    "plt.xlabel('Epochs')\n",
    "plt.legend(['LSTM Network', 'Simple Network'])\n",
    "\n",
    "plt.subplot(2,2,4)\n",
    "plt.plot(lstm_history.history['val_loss'], lw=3.0)\n",
    "plt.plot(rnn_history.history['val_loss'], lw=3.0)\n",
    "plt.xlabel('Epochs')\n",
    "plt.legend(['LSTM Network', 'Simple Network'])\n",
    "\n",
    "plt.show()"
   ]
  },
  {
   "cell_type": "code",
   "execution_count": 87,
   "metadata": {},
   "outputs": [
    {
     "name": "stdout",
     "output_type": "stream",
     "text": [
      "\t--> Similar errors, means models are not significantly different (fail to reject H0)\n"
     ]
    }
   ],
   "source": [
    "import pandas as pd\n",
    "from itertools import combinations\n",
    "from statsmodels.stats.contingency_tables import mcnemar\n",
    "\n",
    "con_table = pd.DataFrame()\n",
    "   \n",
    "yhat_lstm=np.argmax(lstm.predict(X_test), axis=1)\n",
    "error1 = pd.DataFrame(np.heaviside((yhat_lstm - y_test) , 0) , columns = ['LSTM'])\n",
    "\n",
    "yhat_rnn=np.argmax(rnn.predict(X_test), axis=1)\n",
    "error2 = pd.DataFrame(np.heaviside((yhat_rnn - y_test) , 0) , columns = ['Simple'])\n",
    "x = pd.merge(error1 , error2 , left_index=True , right_index=True)\n",
    "con_table.loc[0,0] = len(x.loc[np.where((x['LSTM']==0) & (x['Simple'] == 0))])\n",
    "con_table.loc[0,1] = len(x.loc[np.where((x['LSTM']==0) & (x['Simple'] == 1))])\n",
    "con_table.loc[1,0] = len(x.loc[np.where((x['LSTM']==1) & (x['Simple'] == 0))])\n",
    "con_table.loc[1,1] = len(x.loc[np.where((x['LSTM']==1) & (x['Simple'] == 1))])\n",
    " \n",
    "\n",
    "result = mcnemar(con_table, exact=True)\n",
    "alpha = 0.05\n",
    "if result.pvalue > alpha:\n",
    "    print('\\t--> Similar errors, means models are not significantly different (fail to reject H0)')\n",
    "else:\n",
    "    print('\\t--> Different errors, models are significantly different (reject H0)')"
   ]
  },
  {
   "cell_type": "markdown",
   "metadata": {},
   "source": [
    "# 3.Exceptional Work"
   ]
  },
  {
   "cell_type": "code",
   "execution_count": 74,
   "metadata": {},
   "outputs": [
    {
     "name": "stdout",
     "output_type": "stream",
     "text": [
      "(147709, 100)\n"
     ]
    }
   ],
   "source": [
    "from sklearn.manifold import TSNE\n",
    "from keras.preprocessing.text import Tokenizer\n",
    "tokenizer = Tokenizer(num_words=max_features)\n",
    "tokenizer.fit_on_texts(df.text)\n",
    "sequences  = tokenizer.texts_to_sequences(df.text)\n",
    "word_index = tokenizer.word_index\n",
    "\n",
    "EMBED_SIZE = 100\n",
    "embeddings_index = {}\n",
    "f = open('glove.6B.100d.txt', encoding='utf8')\n",
    "for line in f:\n",
    "    values = line.split()\n",
    "    word = values[0]\n",
    "    coefs = np.asarray(values[1:], dtype='float32')\n",
    "    embeddings_index[word] = coefs\n",
    "f.close()\n",
    "\n",
    "\n",
    "embedding_matrix = np.zeros((len(word_index) + 1, EMBED_SIZE))\n",
    "for word, i in word_index.items():\n",
    "    embedding_vector = embeddings_index.get(word)\n",
    "    if embedding_vector is not None:\n",
    "        # words not found in embedding index will be all-zeros\n",
    "        embedding_matrix[i] = embedding_vector\n",
    "        \n",
    "print(embedding_matrix.shape)\n",
    "\n",
    "ridx = list(range(0, 100))\n",
    "reduced_embedding_matrix = embedding_matrix[ridx, :]"
   ]
  },
  {
   "cell_type": "code",
   "execution_count": 75,
   "metadata": {},
   "outputs": [
    {
     "name": "stdout",
     "output_type": "stream",
     "text": [
      "[t-SNE] Computing 91 nearest neighbors...\n",
      "[t-SNE] Indexed 100 samples in 0.000s...\n",
      "[t-SNE] Computed neighbors for 100 samples in 0.002s...\n",
      "[t-SNE] Computed conditional probabilities for sample 100 / 100\n",
      "[t-SNE] Mean sigma: 1.852529\n",
      "[t-SNE] KL divergence after 250 iterations with early exaggeration: 60.990688\n",
      "[t-SNE] KL divergence after 1000 iterations: 0.789850\n"
     ]
    }
   ],
   "source": [
    "word_index_list = []\n",
    "for key, value in word_index.items():\n",
    "    word_index_list.append(key)\n",
    "word_index_list = list(word_index_list[i] for i in ridx)\n",
    "\n",
    "tsne = TSNE(n_components=2, perplexity=30, init='pca', random_state=42, verbose=1)\n",
    "df_tsne = pd.DataFrame(data=tsne.fit_transform(reduced_embedding_matrix), columns=['dim_1', 'dim_2'])"
   ]
  },
  {
   "cell_type": "code",
   "execution_count": 76,
   "metadata": {},
   "outputs": [
    {
     "data": {
      "text/html": [
       "        <script type=\"text/javascript\">\n",
       "        window.PlotlyConfig = {MathJaxConfig: 'local'};\n",
       "        if (window.MathJax) {MathJax.Hub.Config({SVG: {font: \"STIX-Web\"}});}\n",
       "        if (typeof require !== 'undefined') {\n",
       "        require.undef(\"plotly\");\n",
       "        requirejs.config({\n",
       "            paths: {\n",
       "                'plotly': ['https://cdn.plot.ly/plotly-latest.min']\n",
       "            }\n",
       "        });\n",
       "        require(['plotly'], function(Plotly) {\n",
       "            window._Plotly = Plotly;\n",
       "        });\n",
       "        }\n",
       "        </script>\n",
       "        "
      ]
     },
     "metadata": {},
     "output_type": "display_data"
    },
    {
     "data": {
      "application/vnd.plotly.v1+json": {
       "config": {
        "plotlyServerURL": "https://plot.ly"
       },
       "data": [
        {
         "mode": "markers",
         "text": [
          "the",
          "to",
          "of",
          "a",
          "and",
          "in",
          "that",
          "s",
          "on",
          "for",
          "is",
          "trump",
          "said",
          "he",
          "it",
          "with",
          "was",
          "as",
          "his",
          "by",
          "has",
          "be",
          "not",
          "have",
          "from",
          "this",
          "at",
          "are",
          "who",
          "an",
          "they",
          "but",
          "u",
          "president",
          "i",
          "we",
          "would",
          "about",
          "will",
          "t",
          "their",
          "you",
          "had",
          "been",
          "people",
          "”",
          "more",
          "were",
          "or",
          "after",
          "which",
          "one",
          "she",
          "her",
          "out",
          "all",
          "if",
          "state",
          "what",
          "new",
          "when",
          "up",
          "also",
          "its",
          "over",
          "there",
          "no",
          "house",
          "reuters",
          "donald",
          "clinton",
          "obama",
          "so",
          "government",
          "our",
          "states",
          "can",
          "him",
          "republican",
          "just",
          "than",
          "other",
          "year",
          "some",
          "could",
          "white",
          "united",
          "into",
          "told",
          "like",
          "against",
          "do",
          "them",
          "campaign",
          "two",
          "election",
          "because",
          "time",
          "news",
          "last"
         ],
         "type": "scatter",
         "x": [
          -107.8166732788086,
          13.960453033447266,
          31.50490951538086,
          -17.934507369995117,
          -25.188621520996094,
          -8.045384407043457,
          -28.43716049194336,
          -3.213134288787842,
          -107.86393737792969,
          19.26298713684082,
          3.2069411277770996,
          -17.411611557006836,
          -122.58306884765625,
          -52.91569900512695,
          -53.3172721862793,
          -0.2878161370754242,
          7.900385856628418,
          -38.10528564453125,
          -3.5926666259765625,
          112.80122375488281,
          6.211874961853027,
          102.47021484375,
          -3.628873825073242,
          10.707206726074219,
          -20.540218353271484,
          -14.809686660766602,
          -4.3097052574157715,
          13.359073638916016,
          -16.601327896118164,
          -60.91581726074219,
          -40.60626983642578,
          -5.561376571655273,
          15.53079891204834,
          -123.92608642578125,
          -115.12165069580078,
          66.06503295898438,
          49.10884094238281,
          20.76735496520996,
          79.29510498046875,
          24.213144302368164,
          -114.92603302001953,
          93.13119506835938,
          60.743167877197266,
          -40.45759963989258,
          -24.911096572875977,
          97.39269256591797,
          -92.83486938476562,
          69.75093078613281,
          -35.903472900390625,
          59.786766052246094,
          21.511640548706055,
          -34.79204559326172,
          -10.372386932373047,
          -66.18157958984375,
          124.56451416015625,
          66.46456909179688,
          43.118839263916016,
          25.612964630126953,
          -68.10798645019531,
          41.5811767578125,
          29.58465003967285,
          16.6442928314209,
          62.03995132446289,
          -29.010961532592773,
          42.52077865600586,
          23.04999351501465,
          40.134605407714844,
          31.51926612854004,
          -62.95591354370117,
          -90.46275329589844,
          -109.4699478149414,
          -2978.85400390625,
          1747.064453125,
          32.391265869140625,
          -68.39350891113281,
          89.30204772949219,
          -69.51273345947266,
          9.650897026062012,
          94.8447036743164,
          -118.04692840576172,
          50.942989349365234,
          65.50934600830078,
          -15.27295970916748,
          -38.86222457885742,
          55.25089645385742,
          9.800856590270996,
          57.552398681640625,
          -67.29719543457031,
          79.30088806152344,
          -62.11075210571289,
          59.87942123413086,
          31.558122634887695,
          44.305137634277344,
          76.57357788085938,
          -112.32857513427734,
          -23.304920196533203,
          -101.33563232421875,
          16.466461181640625,
          5.471892833709717,
          -74.54613494873047
         ],
         "y": [
          21.40073013305664,
          36.21031951904297,
          -96.55238342285156,
          99.46200561523438,
          11.870593070983887,
          59.7794075012207,
          68.60191345214844,
          -31.29385757446289,
          -8.369291305541992,
          54.260772705078125,
          48.288700103759766,
          -9.216304779052734,
          26.772735595703125,
          117.9678955078125,
          -33.286865234375,
          -14.727799415588379,
          69.42302703857422,
          -40.59425354003906,
          33.0921745300293,
          -21.28278350830078,
          86.81710815429688,
          11.689051628112793,
          -51.91439437866211,
          -48.66237258911133,
          -70.55534362792969,
          79.51388549804688,
          1.0321893692016602,
          112.08023834228516,
          -89.48104095458984,
          -51.006805419921875,
          18.524471282958984,
          -68.97594451904297,
          -13.274149894714355,
          -4.5607123374938965,
          68.71751403808594,
          -76.12936401367188,
          -74.47106170654297,
          -63.14459228515625,
          57.18254470825195,
          -78.04553985595703,
          -17.538801193237305,
          -42.97755432128906,
          -59.74930953979492,
          -59.53738784790039,
          -54.29703140258789,
          38.5109977722168,
          13.562200546264648,
          33.7794303894043,
          -82.7812271118164,
          77.86377716064453,
          18.296194076538086,
          -9.532709121704102,
          19.21744155883789,
          -25.945423126220703,
          -28.465482711791992,
          -2.164797306060791,
          18.103168487548828,
          -41.25325393676758,
          37.34427261352539,
          -36.5635871887207,
          39.5494270324707,
          4.503752708435059,
          9.557415008544922,
          -25.1668701171875,
          56.1676025390625,
          71.39556121826172,
          0.6278507113456726,
          -8.313325881958008,
          3.7811126708984375,
          90.06352996826172,
          36.001922607421875,
          -50.69898223876953,
          -86.77296447753906,
          -23.78824806213379,
          -79.69206237792969,
          -58.83600616455078,
          53.402244567871094,
          -88.37781524658203,
          -17.31203842163086,
          -66.64816284179688,
          -14.413494110107422,
          45.52101516723633,
          45.99802017211914,
          49.96514892578125,
          31.471647262573242,
          -68.95088958740234,
          108.96022033691406,
          63.40297317504883,
          8.494097709655762,
          111.42811584472656,
          -36.97681427001953,
          87.89716339111328,
          -59.04437255859375,
          -17.8864688873291,
          -82.44715881347656,
          32.3421745300293,
          -72.28128051757812,
          -27.35723876953125,
          14.77087116241455,
          101.8418197631836
         ]
        }
       ],
       "layout": {
        "autosize": true,
        "template": {
         "data": {
          "bar": [
           {
            "error_x": {
             "color": "#2a3f5f"
            },
            "error_y": {
             "color": "#2a3f5f"
            },
            "marker": {
             "line": {
              "color": "#E5ECF6",
              "width": 0.5
             }
            },
            "type": "bar"
           }
          ],
          "barpolar": [
           {
            "marker": {
             "line": {
              "color": "#E5ECF6",
              "width": 0.5
             }
            },
            "type": "barpolar"
           }
          ],
          "carpet": [
           {
            "aaxis": {
             "endlinecolor": "#2a3f5f",
             "gridcolor": "white",
             "linecolor": "white",
             "minorgridcolor": "white",
             "startlinecolor": "#2a3f5f"
            },
            "baxis": {
             "endlinecolor": "#2a3f5f",
             "gridcolor": "white",
             "linecolor": "white",
             "minorgridcolor": "white",
             "startlinecolor": "#2a3f5f"
            },
            "type": "carpet"
           }
          ],
          "choropleth": [
           {
            "colorbar": {
             "outlinewidth": 0,
             "ticks": ""
            },
            "type": "choropleth"
           }
          ],
          "contour": [
           {
            "colorbar": {
             "outlinewidth": 0,
             "ticks": ""
            },
            "colorscale": [
             [
              0,
              "#0d0887"
             ],
             [
              0.1111111111111111,
              "#46039f"
             ],
             [
              0.2222222222222222,
              "#7201a8"
             ],
             [
              0.3333333333333333,
              "#9c179e"
             ],
             [
              0.4444444444444444,
              "#bd3786"
             ],
             [
              0.5555555555555556,
              "#d8576b"
             ],
             [
              0.6666666666666666,
              "#ed7953"
             ],
             [
              0.7777777777777778,
              "#fb9f3a"
             ],
             [
              0.8888888888888888,
              "#fdca26"
             ],
             [
              1,
              "#f0f921"
             ]
            ],
            "type": "contour"
           }
          ],
          "contourcarpet": [
           {
            "colorbar": {
             "outlinewidth": 0,
             "ticks": ""
            },
            "type": "contourcarpet"
           }
          ],
          "heatmap": [
           {
            "colorbar": {
             "outlinewidth": 0,
             "ticks": ""
            },
            "colorscale": [
             [
              0,
              "#0d0887"
             ],
             [
              0.1111111111111111,
              "#46039f"
             ],
             [
              0.2222222222222222,
              "#7201a8"
             ],
             [
              0.3333333333333333,
              "#9c179e"
             ],
             [
              0.4444444444444444,
              "#bd3786"
             ],
             [
              0.5555555555555556,
              "#d8576b"
             ],
             [
              0.6666666666666666,
              "#ed7953"
             ],
             [
              0.7777777777777778,
              "#fb9f3a"
             ],
             [
              0.8888888888888888,
              "#fdca26"
             ],
             [
              1,
              "#f0f921"
             ]
            ],
            "type": "heatmap"
           }
          ],
          "heatmapgl": [
           {
            "colorbar": {
             "outlinewidth": 0,
             "ticks": ""
            },
            "colorscale": [
             [
              0,
              "#0d0887"
             ],
             [
              0.1111111111111111,
              "#46039f"
             ],
             [
              0.2222222222222222,
              "#7201a8"
             ],
             [
              0.3333333333333333,
              "#9c179e"
             ],
             [
              0.4444444444444444,
              "#bd3786"
             ],
             [
              0.5555555555555556,
              "#d8576b"
             ],
             [
              0.6666666666666666,
              "#ed7953"
             ],
             [
              0.7777777777777778,
              "#fb9f3a"
             ],
             [
              0.8888888888888888,
              "#fdca26"
             ],
             [
              1,
              "#f0f921"
             ]
            ],
            "type": "heatmapgl"
           }
          ],
          "histogram": [
           {
            "marker": {
             "colorbar": {
              "outlinewidth": 0,
              "ticks": ""
             }
            },
            "type": "histogram"
           }
          ],
          "histogram2d": [
           {
            "colorbar": {
             "outlinewidth": 0,
             "ticks": ""
            },
            "colorscale": [
             [
              0,
              "#0d0887"
             ],
             [
              0.1111111111111111,
              "#46039f"
             ],
             [
              0.2222222222222222,
              "#7201a8"
             ],
             [
              0.3333333333333333,
              "#9c179e"
             ],
             [
              0.4444444444444444,
              "#bd3786"
             ],
             [
              0.5555555555555556,
              "#d8576b"
             ],
             [
              0.6666666666666666,
              "#ed7953"
             ],
             [
              0.7777777777777778,
              "#fb9f3a"
             ],
             [
              0.8888888888888888,
              "#fdca26"
             ],
             [
              1,
              "#f0f921"
             ]
            ],
            "type": "histogram2d"
           }
          ],
          "histogram2dcontour": [
           {
            "colorbar": {
             "outlinewidth": 0,
             "ticks": ""
            },
            "colorscale": [
             [
              0,
              "#0d0887"
             ],
             [
              0.1111111111111111,
              "#46039f"
             ],
             [
              0.2222222222222222,
              "#7201a8"
             ],
             [
              0.3333333333333333,
              "#9c179e"
             ],
             [
              0.4444444444444444,
              "#bd3786"
             ],
             [
              0.5555555555555556,
              "#d8576b"
             ],
             [
              0.6666666666666666,
              "#ed7953"
             ],
             [
              0.7777777777777778,
              "#fb9f3a"
             ],
             [
              0.8888888888888888,
              "#fdca26"
             ],
             [
              1,
              "#f0f921"
             ]
            ],
            "type": "histogram2dcontour"
           }
          ],
          "mesh3d": [
           {
            "colorbar": {
             "outlinewidth": 0,
             "ticks": ""
            },
            "type": "mesh3d"
           }
          ],
          "parcoords": [
           {
            "line": {
             "colorbar": {
              "outlinewidth": 0,
              "ticks": ""
             }
            },
            "type": "parcoords"
           }
          ],
          "pie": [
           {
            "automargin": true,
            "type": "pie"
           }
          ],
          "scatter": [
           {
            "marker": {
             "colorbar": {
              "outlinewidth": 0,
              "ticks": ""
             }
            },
            "type": "scatter"
           }
          ],
          "scatter3d": [
           {
            "line": {
             "colorbar": {
              "outlinewidth": 0,
              "ticks": ""
             }
            },
            "marker": {
             "colorbar": {
              "outlinewidth": 0,
              "ticks": ""
             }
            },
            "type": "scatter3d"
           }
          ],
          "scattercarpet": [
           {
            "marker": {
             "colorbar": {
              "outlinewidth": 0,
              "ticks": ""
             }
            },
            "type": "scattercarpet"
           }
          ],
          "scattergeo": [
           {
            "marker": {
             "colorbar": {
              "outlinewidth": 0,
              "ticks": ""
             }
            },
            "type": "scattergeo"
           }
          ],
          "scattergl": [
           {
            "marker": {
             "colorbar": {
              "outlinewidth": 0,
              "ticks": ""
             }
            },
            "type": "scattergl"
           }
          ],
          "scattermapbox": [
           {
            "marker": {
             "colorbar": {
              "outlinewidth": 0,
              "ticks": ""
             }
            },
            "type": "scattermapbox"
           }
          ],
          "scatterpolar": [
           {
            "marker": {
             "colorbar": {
              "outlinewidth": 0,
              "ticks": ""
             }
            },
            "type": "scatterpolar"
           }
          ],
          "scatterpolargl": [
           {
            "marker": {
             "colorbar": {
              "outlinewidth": 0,
              "ticks": ""
             }
            },
            "type": "scatterpolargl"
           }
          ],
          "scatterternary": [
           {
            "marker": {
             "colorbar": {
              "outlinewidth": 0,
              "ticks": ""
             }
            },
            "type": "scatterternary"
           }
          ],
          "surface": [
           {
            "colorbar": {
             "outlinewidth": 0,
             "ticks": ""
            },
            "colorscale": [
             [
              0,
              "#0d0887"
             ],
             [
              0.1111111111111111,
              "#46039f"
             ],
             [
              0.2222222222222222,
              "#7201a8"
             ],
             [
              0.3333333333333333,
              "#9c179e"
             ],
             [
              0.4444444444444444,
              "#bd3786"
             ],
             [
              0.5555555555555556,
              "#d8576b"
             ],
             [
              0.6666666666666666,
              "#ed7953"
             ],
             [
              0.7777777777777778,
              "#fb9f3a"
             ],
             [
              0.8888888888888888,
              "#fdca26"
             ],
             [
              1,
              "#f0f921"
             ]
            ],
            "type": "surface"
           }
          ],
          "table": [
           {
            "cells": {
             "fill": {
              "color": "#EBF0F8"
             },
             "line": {
              "color": "white"
             }
            },
            "header": {
             "fill": {
              "color": "#C8D4E3"
             },
             "line": {
              "color": "white"
             }
            },
            "type": "table"
           }
          ]
         },
         "layout": {
          "annotationdefaults": {
           "arrowcolor": "#2a3f5f",
           "arrowhead": 0,
           "arrowwidth": 1
          },
          "coloraxis": {
           "colorbar": {
            "outlinewidth": 0,
            "ticks": ""
           }
          },
          "colorscale": {
           "diverging": [
            [
             0,
             "#8e0152"
            ],
            [
             0.1,
             "#c51b7d"
            ],
            [
             0.2,
             "#de77ae"
            ],
            [
             0.3,
             "#f1b6da"
            ],
            [
             0.4,
             "#fde0ef"
            ],
            [
             0.5,
             "#f7f7f7"
            ],
            [
             0.6,
             "#e6f5d0"
            ],
            [
             0.7,
             "#b8e186"
            ],
            [
             0.8,
             "#7fbc41"
            ],
            [
             0.9,
             "#4d9221"
            ],
            [
             1,
             "#276419"
            ]
           ],
           "sequential": [
            [
             0,
             "#0d0887"
            ],
            [
             0.1111111111111111,
             "#46039f"
            ],
            [
             0.2222222222222222,
             "#7201a8"
            ],
            [
             0.3333333333333333,
             "#9c179e"
            ],
            [
             0.4444444444444444,
             "#bd3786"
            ],
            [
             0.5555555555555556,
             "#d8576b"
            ],
            [
             0.6666666666666666,
             "#ed7953"
            ],
            [
             0.7777777777777778,
             "#fb9f3a"
            ],
            [
             0.8888888888888888,
             "#fdca26"
            ],
            [
             1,
             "#f0f921"
            ]
           ],
           "sequentialminus": [
            [
             0,
             "#0d0887"
            ],
            [
             0.1111111111111111,
             "#46039f"
            ],
            [
             0.2222222222222222,
             "#7201a8"
            ],
            [
             0.3333333333333333,
             "#9c179e"
            ],
            [
             0.4444444444444444,
             "#bd3786"
            ],
            [
             0.5555555555555556,
             "#d8576b"
            ],
            [
             0.6666666666666666,
             "#ed7953"
            ],
            [
             0.7777777777777778,
             "#fb9f3a"
            ],
            [
             0.8888888888888888,
             "#fdca26"
            ],
            [
             1,
             "#f0f921"
            ]
           ]
          },
          "colorway": [
           "#636efa",
           "#EF553B",
           "#00cc96",
           "#ab63fa",
           "#FFA15A",
           "#19d3f3",
           "#FF6692",
           "#B6E880",
           "#FF97FF",
           "#FECB52"
          ],
          "font": {
           "color": "#2a3f5f"
          },
          "geo": {
           "bgcolor": "white",
           "lakecolor": "white",
           "landcolor": "#E5ECF6",
           "showlakes": true,
           "showland": true,
           "subunitcolor": "white"
          },
          "hoverlabel": {
           "align": "left"
          },
          "hovermode": "closest",
          "mapbox": {
           "style": "light"
          },
          "paper_bgcolor": "white",
          "plot_bgcolor": "#E5ECF6",
          "polar": {
           "angularaxis": {
            "gridcolor": "white",
            "linecolor": "white",
            "ticks": ""
           },
           "bgcolor": "#E5ECF6",
           "radialaxis": {
            "gridcolor": "white",
            "linecolor": "white",
            "ticks": ""
           }
          },
          "scene": {
           "xaxis": {
            "backgroundcolor": "#E5ECF6",
            "gridcolor": "white",
            "gridwidth": 2,
            "linecolor": "white",
            "showbackground": true,
            "ticks": "",
            "zerolinecolor": "white"
           },
           "yaxis": {
            "backgroundcolor": "#E5ECF6",
            "gridcolor": "white",
            "gridwidth": 2,
            "linecolor": "white",
            "showbackground": true,
            "ticks": "",
            "zerolinecolor": "white"
           },
           "zaxis": {
            "backgroundcolor": "#E5ECF6",
            "gridcolor": "white",
            "gridwidth": 2,
            "linecolor": "white",
            "showbackground": true,
            "ticks": "",
            "zerolinecolor": "white"
           }
          },
          "shapedefaults": {
           "line": {
            "color": "#2a3f5f"
           }
          },
          "ternary": {
           "aaxis": {
            "gridcolor": "white",
            "linecolor": "white",
            "ticks": ""
           },
           "baxis": {
            "gridcolor": "white",
            "linecolor": "white",
            "ticks": ""
           },
           "bgcolor": "#E5ECF6",
           "caxis": {
            "gridcolor": "white",
            "linecolor": "white",
            "ticks": ""
           }
          },
          "title": {
           "x": 0.05
          },
          "xaxis": {
           "automargin": true,
           "gridcolor": "white",
           "linecolor": "white",
           "ticks": "",
           "title": {
            "standoff": 15
           },
           "zerolinecolor": "white",
           "zerolinewidth": 2
          },
          "yaxis": {
           "automargin": true,
           "gridcolor": "white",
           "linecolor": "white",
           "ticks": "",
           "title": {
            "standoff": 15
           },
           "zerolinecolor": "white",
           "zerolinewidth": 2
          }
         }
        },
        "title": {
         "text": "t-SNE Distribution"
        },
        "xaxis": {
         "autorange": true,
         "range": [
          -3276.152385754078,
          2044.3628349728278
         ],
         "title": {
          "text": "Dimension 1"
         },
         "type": "linear"
        },
        "yaxis": {
         "autorange": true,
         "range": [
          -114.25551323751802,
          135.67102532247895
         ],
         "title": {
          "text": "Dimension 2"
         },
         "type": "linear"
        }
       }
      },
      "image/png": "[encoded data removed]",
      "text/html": [
       "<div>\n",
       "        \n",
       "        \n",
       "            <div id=\"43d09871-243b-4434-abe9-32c775792160\" class=\"plotly-graph-div\" style=\"height:525px; width:100%;\"></div>\n",
       "            <script type=\"text/javascript\">\n",
       "                require([\"plotly\"], function(Plotly) {\n",
       "                    window.PLOTLYENV=window.PLOTLYENV || {};\n",
       "                    \n",
       "                if (document.getElementById(\"43d09871-243b-4434-abe9-32c775792160\")) {\n",
       "                    Plotly.newPlot(\n",
       "                        '43d09871-243b-4434-abe9-32c775792160',\n",
       "                        [{\"mode\": \"markers\", \"text\": [\"the\", \"to\", \"of\", \"a\", \"and\", \"in\", \"that\", \"s\", \"on\", \"for\", \"is\", \"trump\", \"said\", \"he\", \"it\", \"with\", \"was\", \"as\", \"his\", \"by\", \"has\", \"be\", \"not\", \"have\", \"from\", \"this\", \"at\", \"are\", \"who\", \"an\", \"they\", \"but\", \"u\", \"president\", \"i\", \"we\", \"would\", \"about\", \"will\", \"t\", \"their\", \"you\", \"had\", \"been\", \"people\", \"\\u201d\", \"more\", \"were\", \"or\", \"after\", \"which\", \"one\", \"she\", \"her\", \"out\", \"all\", \"if\", \"state\", \"what\", \"new\", \"when\", \"up\", \"also\", \"its\", \"over\", \"there\", \"no\", \"house\", \"reuters\", \"donald\", \"clinton\", \"obama\", \"so\", \"government\", \"our\", \"states\", \"can\", \"him\", \"republican\", \"just\", \"than\", \"other\", \"year\", \"some\", \"could\", \"white\", \"united\", \"into\", \"told\", \"like\", \"against\", \"do\", \"them\", \"campaign\", \"two\", \"election\", \"because\", \"time\", \"news\", \"last\"], \"type\": \"scatter\", \"x\": [-107.8166732788086, 13.960453033447266, 31.50490951538086, -17.934507369995117, -25.188621520996094, -8.045384407043457, -28.43716049194336, -3.213134288787842, -107.86393737792969, 19.26298713684082, 3.2069411277770996, -17.411611557006836, -122.58306884765625, -52.91569900512695, -53.3172721862793, -0.2878161370754242, 7.900385856628418, -38.10528564453125, -3.5926666259765625, 112.80122375488281, 6.211874961853027, 102.47021484375, -3.628873825073242, 10.707206726074219, -20.540218353271484, -14.809686660766602, -4.3097052574157715, 13.359073638916016, -16.601327896118164, -60.91581726074219, -40.60626983642578, -5.561376571655273, 15.53079891204834, -123.92608642578125, -115.12165069580078, 66.06503295898438, 49.10884094238281, 20.76735496520996, 79.29510498046875, 24.213144302368164, -114.92603302001953, 93.13119506835938, 60.743167877197266, -40.45759963989258, -24.911096572875977, 97.39269256591797, -92.83486938476562, 69.75093078613281, -35.903472900390625, 59.786766052246094, 21.511640548706055, -34.79204559326172, -10.372386932373047, -66.18157958984375, 124.56451416015625, 66.46456909179688, 43.118839263916016, 25.612964630126953, -68.10798645019531, 41.5811767578125, 29.58465003967285, 16.6442928314209, 62.03995132446289, -29.010961532592773, 42.52077865600586, 23.04999351501465, 40.134605407714844, 31.51926612854004, -62.95591354370117, -90.46275329589844, -109.4699478149414, -2978.85400390625, 1747.064453125, 32.391265869140625, -68.39350891113281, 89.30204772949219, -69.51273345947266, 9.650897026062012, 94.8447036743164, -118.04692840576172, 50.942989349365234, 65.50934600830078, -15.27295970916748, -38.86222457885742, 55.25089645385742, 9.800856590270996, 57.552398681640625, -67.29719543457031, 79.30088806152344, -62.11075210571289, 59.87942123413086, 31.558122634887695, 44.305137634277344, 76.57357788085938, -112.32857513427734, -23.304920196533203, -101.33563232421875, 16.466461181640625, 5.471892833709717, -74.54613494873047], \"y\": [21.40073013305664, 36.21031951904297, -96.55238342285156, 99.46200561523438, 11.870593070983887, 59.7794075012207, 68.60191345214844, -31.29385757446289, -8.369291305541992, 54.260772705078125, 48.288700103759766, -9.216304779052734, 26.772735595703125, 117.9678955078125, -33.286865234375, -14.727799415588379, 69.42302703857422, -40.59425354003906, 33.0921745300293, -21.28278350830078, 86.81710815429688, 11.689051628112793, -51.91439437866211, -48.66237258911133, -70.55534362792969, 79.51388549804688, 1.0321893692016602, 112.08023834228516, -89.48104095458984, -51.006805419921875, 18.524471282958984, -68.97594451904297, -13.274149894714355, -4.5607123374938965, 68.71751403808594, -76.12936401367188, -74.47106170654297, -63.14459228515625, 57.18254470825195, -78.04553985595703, -17.538801193237305, -42.97755432128906, -59.74930953979492, -59.53738784790039, -54.29703140258789, 38.5109977722168, 13.562200546264648, 33.7794303894043, -82.7812271118164, 77.86377716064453, 18.296194076538086, -9.532709121704102, 19.21744155883789, -25.945423126220703, -28.465482711791992, -2.164797306060791, 18.103168487548828, -41.25325393676758, 37.34427261352539, -36.5635871887207, 39.5494270324707, 4.503752708435059, 9.557415008544922, -25.1668701171875, 56.1676025390625, 71.39556121826172, 0.6278507113456726, -8.313325881958008, 3.7811126708984375, 90.06352996826172, 36.001922607421875, -50.69898223876953, -86.77296447753906, -23.78824806213379, -79.69206237792969, -58.83600616455078, 53.402244567871094, -88.37781524658203, -17.31203842163086, -66.64816284179688, -14.413494110107422, 45.52101516723633, 45.99802017211914, 49.96514892578125, 31.471647262573242, -68.95088958740234, 108.96022033691406, 63.40297317504883, 8.494097709655762, 111.42811584472656, -36.97681427001953, 87.89716339111328, -59.04437255859375, -17.8864688873291, -82.44715881347656, 32.3421745300293, -72.28128051757812, -27.35723876953125, 14.77087116241455, 101.8418197631836]}],\n",
       "                        {\"template\": {\"data\": {\"bar\": [{\"error_x\": {\"color\": \"#2a3f5f\"}, \"error_y\": {\"color\": \"#2a3f5f\"}, \"marker\": {\"line\": {\"color\": \"#E5ECF6\", \"width\": 0.5}}, \"type\": \"bar\"}], \"barpolar\": [{\"marker\": {\"line\": {\"color\": \"#E5ECF6\", \"width\": 0.5}}, \"type\": \"barpolar\"}], \"carpet\": [{\"aaxis\": {\"endlinecolor\": \"#2a3f5f\", \"gridcolor\": \"white\", \"linecolor\": \"white\", \"minorgridcolor\": \"white\", \"startlinecolor\": \"#2a3f5f\"}, \"baxis\": {\"endlinecolor\": \"#2a3f5f\", \"gridcolor\": \"white\", \"linecolor\": \"white\", \"minorgridcolor\": \"white\", \"startlinecolor\": \"#2a3f5f\"}, \"type\": \"carpet\"}], \"choropleth\": [{\"colorbar\": {\"outlinewidth\": 0, \"ticks\": \"\"}, \"type\": \"choropleth\"}], \"contour\": [{\"colorbar\": {\"outlinewidth\": 0, \"ticks\": \"\"}, \"colorscale\": [[0.0, \"#0d0887\"], [0.1111111111111111, \"#46039f\"], [0.2222222222222222, \"#7201a8\"], [0.3333333333333333, \"#9c179e\"], [0.4444444444444444, \"#bd3786\"], [0.5555555555555556, \"#d8576b\"], [0.6666666666666666, \"#ed7953\"], [0.7777777777777778, \"#fb9f3a\"], [0.8888888888888888, \"#fdca26\"], [1.0, \"#f0f921\"]], \"type\": \"contour\"}], \"contourcarpet\": [{\"colorbar\": {\"outlinewidth\": 0, \"ticks\": \"\"}, \"type\": \"contourcarpet\"}], \"heatmap\": [{\"colorbar\": {\"outlinewidth\": 0, \"ticks\": \"\"}, \"colorscale\": [[0.0, \"#0d0887\"], [0.1111111111111111, \"#46039f\"], [0.2222222222222222, \"#7201a8\"], [0.3333333333333333, \"#9c179e\"], [0.4444444444444444, \"#bd3786\"], [0.5555555555555556, \"#d8576b\"], [0.6666666666666666, \"#ed7953\"], [0.7777777777777778, \"#fb9f3a\"], [0.8888888888888888, \"#fdca26\"], [1.0, \"#f0f921\"]], \"type\": \"heatmap\"}], \"heatmapgl\": [{\"colorbar\": {\"outlinewidth\": 0, \"ticks\": \"\"}, \"colorscale\": [[0.0, \"#0d0887\"], [0.1111111111111111, \"#46039f\"], [0.2222222222222222, \"#7201a8\"], [0.3333333333333333, \"#9c179e\"], [0.4444444444444444, \"#bd3786\"], [0.5555555555555556, \"#d8576b\"], [0.6666666666666666, \"#ed7953\"], [0.7777777777777778, \"#fb9f3a\"], [0.8888888888888888, \"#fdca26\"], [1.0, \"#f0f921\"]], \"type\": \"heatmapgl\"}], \"histogram\": [{\"marker\": {\"colorbar\": {\"outlinewidth\": 0, \"ticks\": \"\"}}, \"type\": \"histogram\"}], \"histogram2d\": [{\"colorbar\": {\"outlinewidth\": 0, \"ticks\": \"\"}, \"colorscale\": [[0.0, \"#0d0887\"], [0.1111111111111111, \"#46039f\"], [0.2222222222222222, \"#7201a8\"], [0.3333333333333333, \"#9c179e\"], [0.4444444444444444, \"#bd3786\"], [0.5555555555555556, \"#d8576b\"], [0.6666666666666666, \"#ed7953\"], [0.7777777777777778, \"#fb9f3a\"], [0.8888888888888888, \"#fdca26\"], [1.0, \"#f0f921\"]], \"type\": \"histogram2d\"}], \"histogram2dcontour\": [{\"colorbar\": {\"outlinewidth\": 0, \"ticks\": \"\"}, \"colorscale\": [[0.0, \"#0d0887\"], [0.1111111111111111, \"#46039f\"], [0.2222222222222222, \"#7201a8\"], [0.3333333333333333, \"#9c179e\"], [0.4444444444444444, \"#bd3786\"], [0.5555555555555556, \"#d8576b\"], [0.6666666666666666, \"#ed7953\"], [0.7777777777777778, \"#fb9f3a\"], [0.8888888888888888, \"#fdca26\"], [1.0, \"#f0f921\"]], \"type\": \"histogram2dcontour\"}], \"mesh3d\": [{\"colorbar\": {\"outlinewidth\": 0, \"ticks\": \"\"}, \"type\": \"mesh3d\"}], \"parcoords\": [{\"line\": {\"colorbar\": {\"outlinewidth\": 0, \"ticks\": \"\"}}, \"type\": \"parcoords\"}], \"pie\": [{\"automargin\": true, \"type\": \"pie\"}], \"scatter\": [{\"marker\": {\"colorbar\": {\"outlinewidth\": 0, \"ticks\": \"\"}}, \"type\": \"scatter\"}], \"scatter3d\": [{\"line\": {\"colorbar\": {\"outlinewidth\": 0, \"ticks\": \"\"}}, \"marker\": {\"colorbar\": {\"outlinewidth\": 0, \"ticks\": \"\"}}, \"type\": \"scatter3d\"}], \"scattercarpet\": [{\"marker\": {\"colorbar\": {\"outlinewidth\": 0, \"ticks\": \"\"}}, \"type\": \"scattercarpet\"}], \"scattergeo\": [{\"marker\": {\"colorbar\": {\"outlinewidth\": 0, \"ticks\": \"\"}}, \"type\": \"scattergeo\"}], \"scattergl\": [{\"marker\": {\"colorbar\": {\"outlinewidth\": 0, \"ticks\": \"\"}}, \"type\": \"scattergl\"}], \"scattermapbox\": [{\"marker\": {\"colorbar\": {\"outlinewidth\": 0, \"ticks\": \"\"}}, \"type\": \"scattermapbox\"}], \"scatterpolar\": [{\"marker\": {\"colorbar\": {\"outlinewidth\": 0, \"ticks\": \"\"}}, \"type\": \"scatterpolar\"}], \"scatterpolargl\": [{\"marker\": {\"colorbar\": {\"outlinewidth\": 0, \"ticks\": \"\"}}, \"type\": \"scatterpolargl\"}], \"scatterternary\": [{\"marker\": {\"colorbar\": {\"outlinewidth\": 0, \"ticks\": \"\"}}, \"type\": \"scatterternary\"}], \"surface\": [{\"colorbar\": {\"outlinewidth\": 0, \"ticks\": \"\"}, \"colorscale\": [[0.0, \"#0d0887\"], [0.1111111111111111, \"#46039f\"], [0.2222222222222222, \"#7201a8\"], [0.3333333333333333, \"#9c179e\"], [0.4444444444444444, \"#bd3786\"], [0.5555555555555556, \"#d8576b\"], [0.6666666666666666, \"#ed7953\"], [0.7777777777777778, \"#fb9f3a\"], [0.8888888888888888, \"#fdca26\"], [1.0, \"#f0f921\"]], \"type\": \"surface\"}], \"table\": [{\"cells\": {\"fill\": {\"color\": \"#EBF0F8\"}, \"line\": {\"color\": \"white\"}}, \"header\": {\"fill\": {\"color\": \"#C8D4E3\"}, \"line\": {\"color\": \"white\"}}, \"type\": \"table\"}]}, \"layout\": {\"annotationdefaults\": {\"arrowcolor\": \"#2a3f5f\", \"arrowhead\": 0, \"arrowwidth\": 1}, \"coloraxis\": {\"colorbar\": {\"outlinewidth\": 0, \"ticks\": \"\"}}, \"colorscale\": {\"diverging\": [[0, \"#8e0152\"], [0.1, \"#c51b7d\"], [0.2, \"#de77ae\"], [0.3, \"#f1b6da\"], [0.4, \"#fde0ef\"], [0.5, \"#f7f7f7\"], [0.6, \"#e6f5d0\"], [0.7, \"#b8e186\"], [0.8, \"#7fbc41\"], [0.9, \"#4d9221\"], [1, \"#276419\"]], \"sequential\": [[0.0, \"#0d0887\"], [0.1111111111111111, \"#46039f\"], [0.2222222222222222, \"#7201a8\"], [0.3333333333333333, \"#9c179e\"], [0.4444444444444444, \"#bd3786\"], [0.5555555555555556, \"#d8576b\"], [0.6666666666666666, \"#ed7953\"], [0.7777777777777778, \"#fb9f3a\"], [0.8888888888888888, \"#fdca26\"], [1.0, \"#f0f921\"]], \"sequentialminus\": [[0.0, \"#0d0887\"], [0.1111111111111111, \"#46039f\"], [0.2222222222222222, \"#7201a8\"], [0.3333333333333333, \"#9c179e\"], [0.4444444444444444, \"#bd3786\"], [0.5555555555555556, \"#d8576b\"], [0.6666666666666666, \"#ed7953\"], [0.7777777777777778, \"#fb9f3a\"], [0.8888888888888888, \"#fdca26\"], [1.0, \"#f0f921\"]]}, \"colorway\": [\"#636efa\", \"#EF553B\", \"#00cc96\", \"#ab63fa\", \"#FFA15A\", \"#19d3f3\", \"#FF6692\", \"#B6E880\", \"#FF97FF\", \"#FECB52\"], \"font\": {\"color\": \"#2a3f5f\"}, \"geo\": {\"bgcolor\": \"white\", \"lakecolor\": \"white\", \"landcolor\": \"#E5ECF6\", \"showlakes\": true, \"showland\": true, \"subunitcolor\": \"white\"}, \"hoverlabel\": {\"align\": \"left\"}, \"hovermode\": \"closest\", \"mapbox\": {\"style\": \"light\"}, \"paper_bgcolor\": \"white\", \"plot_bgcolor\": \"#E5ECF6\", \"polar\": {\"angularaxis\": {\"gridcolor\": \"white\", \"linecolor\": \"white\", \"ticks\": \"\"}, \"bgcolor\": \"#E5ECF6\", \"radialaxis\": {\"gridcolor\": \"white\", \"linecolor\": \"white\", \"ticks\": \"\"}}, \"scene\": {\"xaxis\": {\"backgroundcolor\": \"#E5ECF6\", \"gridcolor\": \"white\", \"gridwidth\": 2, \"linecolor\": \"white\", \"showbackground\": true, \"ticks\": \"\", \"zerolinecolor\": \"white\"}, \"yaxis\": {\"backgroundcolor\": \"#E5ECF6\", \"gridcolor\": \"white\", \"gridwidth\": 2, \"linecolor\": \"white\", \"showbackground\": true, \"ticks\": \"\", \"zerolinecolor\": \"white\"}, \"zaxis\": {\"backgroundcolor\": \"#E5ECF6\", \"gridcolor\": \"white\", \"gridwidth\": 2, \"linecolor\": \"white\", \"showbackground\": true, \"ticks\": \"\", \"zerolinecolor\": \"white\"}}, \"shapedefaults\": {\"line\": {\"color\": \"#2a3f5f\"}}, \"ternary\": {\"aaxis\": {\"gridcolor\": \"white\", \"linecolor\": \"white\", \"ticks\": \"\"}, \"baxis\": {\"gridcolor\": \"white\", \"linecolor\": \"white\", \"ticks\": \"\"}, \"bgcolor\": \"#E5ECF6\", \"caxis\": {\"gridcolor\": \"white\", \"linecolor\": \"white\", \"ticks\": \"\"}}, \"title\": {\"x\": 0.05}, \"xaxis\": {\"automargin\": true, \"gridcolor\": \"white\", \"linecolor\": \"white\", \"ticks\": \"\", \"title\": {\"standoff\": 15}, \"zerolinecolor\": \"white\", \"zerolinewidth\": 2}, \"yaxis\": {\"automargin\": true, \"gridcolor\": \"white\", \"linecolor\": \"white\", \"ticks\": \"\", \"title\": {\"standoff\": 15}, \"zerolinecolor\": \"white\", \"zerolinewidth\": 2}}}, \"title\": {\"text\": \"t-SNE Distribution\"}, \"xaxis\": {\"title\": {\"text\": \"Dimension 1\"}}, \"yaxis\": {\"title\": {\"text\": \"Dimension 2\"}}},\n",
       "                        {\"responsive\": true}\n",
       "                    ).then(function(){\n",
       "                            \n",
       "var gd = document.getElementById('43d09871-243b-4434-abe9-32c775792160');\n",
       "var x = new MutationObserver(function (mutations, observer) {{\n",
       "        var display = window.getComputedStyle(gd).display;\n",
       "        if (!display || display === 'none') {{\n",
       "            console.log([gd, 'removed!']);\n",
       "            Plotly.purge(gd);\n",
       "            observer.disconnect();\n",
       "        }}\n",
       "}});\n",
       "\n",
       "// Listen for the removal of the full notebook cells\n",
       "var notebookContainer = gd.closest('#notebook-container');\n",
       "if (notebookContainer) {{\n",
       "    x.observe(notebookContainer, {childList: true});\n",
       "}}\n",
       "\n",
       "// Listen for the clearing of the current output cell\n",
       "var outputEl = gd.closest('.output');\n",
       "if (outputEl) {{\n",
       "    x.observe(outputEl, {childList: true});\n",
       "}}\n",
       "\n",
       "                        })\n",
       "                };\n",
       "                });\n",
       "            </script>\n",
       "        </div>"
      ]
     },
     "metadata": {},
     "output_type": "display_data"
    }
   ],
   "source": [
    "import plotly.graph_objects as go\n",
    "from plotly.offline import download_plotlyjs, init_notebook_mode, plot, iplot\n",
    "\n",
    "init_notebook_mode(connected=True)\n",
    "\n",
    "fig = go.Figure()\n",
    "fig.add_trace(go.Scatter(x=df_tsne.dim_1, y=df_tsne.dim_2, mode='markers', text=word_index_list))\n",
    "fig.update_layout(title='t-SNE Distribution',xaxis_title='Dimension 1',yaxis_title='Dimension 2')"
   ]
  },
  {
   "cell_type": "markdown",
   "metadata": {},
   "source": [
    "The above plot shows the 2-dimensional t-SNE distribution of the first 100 words from the Glove embedding. Each point on the plot represents a different word. Hovering on each point will show the word it represents. Proximity between two points indicates that the network sees the two words similarly. By looking through some of the points, it appears that the horizontal dimension (\"Dimension 1\") represents position within a sentence, i.e. if two words are close to each other horizontally, it means they appear close to each other in sentences frequently. The vertical dimension, on the other hand, appears to be more closely tied to *how* a word is used, not *where* it is used; i.e., if two words are close vertically, they are often used in the same way."
   ]
  },
  {
   "cell_type": "code",
   "execution_count": null,
   "metadata": {},
   "outputs": [],
   "source": []
  }
 ],
 "metadata": {
  "kernelspec": {
   "display_name": "Python 3 (ipykernel)",
   "language": "python",
   "name": "python3"
  },
  "language_info": {
   "codemirror_mode": {
    "name": "ipython",
    "version": 3
   },
   "file_extension": ".py",
   "mimetype": "text/x-python",
   "name": "python",
   "nbconvert_exporter": "python",
   "pygments_lexer": "ipython3",
   "version": "3.9.16"
  }
 },
 "nbformat": 4,
 "nbformat_minor": 4
}
